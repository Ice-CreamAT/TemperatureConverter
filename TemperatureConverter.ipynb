{
  "cells": [
    {
      "cell_type": "markdown",
      "metadata": {
        "id": "view-in-github",
        "colab_type": "text"
      },
      "source": [
        "<a href=\"https://colab.research.google.com/github/Ice-CreamAT/TemperatureConverter/blob/main/TemperatureConverter.ipynb\" target=\"_parent\"><img src=\"https://colab.research.google.com/assets/colab-badge.svg\" alt=\"Open In Colab\"/></a>"
      ]
    },
    {
      "cell_type": "code",
      "execution_count": 2,
      "metadata": {
        "colab": {
          "base_uri": "https://localhost:8080/"
        },
        "id": "DoTbzkz6rswm",
        "outputId": "c777b322-9b3c-43bf-81a6-b649ca68ef4e"
      },
      "outputs": [
        {
          "output_type": "stream",
          "name": "stdout",
          "text": [
            "Colab only includes TensorFlow 2.x; %tensorflow_version has no effect.\n"
          ]
        }
      ],
      "source": [
        "%tensorflow_version 2.x\n",
        "import tensorflow as tf\n",
        "import pandas as pd\n",
        "import seaborn as sns\n",
        "import matplotlib.pyplot as plt\n"
      ]
    },
    {
      "cell_type": "code",
      "execution_count": 3,
      "metadata": {
        "id": "6QUcUZ1w_vKo"
      },
      "outputs": [],
      "source": [
        "temperature_df = pd.read_csv('/content/Celsius-to-Fahrenheit.csv')\n",
        "temperature_df.reset_index(drop = True, inplace = True)"
      ]
    },
    {
      "cell_type": "code",
      "execution_count": 4,
      "metadata": {
        "colab": {
          "base_uri": "https://localhost:8080/",
          "height": 990
        },
        "id": "qQldwKReAaBS",
        "outputId": "5219b381-1644-4cef-ec3d-659db552cf44"
      },
      "outputs": [
        {
          "output_type": "execute_result",
          "data": {
            "text/plain": [
              "    Celsius  Fahrenheit\n",
              "0       -50       -58.0\n",
              "1       -40       -40.0\n",
              "2       -30       -22.0\n",
              "3       -20        -4.0\n",
              "4       -10        14.0\n",
              "5        -9        15.8\n",
              "6        -8        17.6\n",
              "7        -7        19.4\n",
              "8        -6        21.2\n",
              "9        -5        23.0\n",
              "10       -4        24.8\n",
              "11       -3        26.6\n",
              "12       -2        28.4\n",
              "13       -1        30.2\n",
              "14        0        32.0\n",
              "15        1        33.8\n",
              "16        2        35.6\n",
              "17        3        37.4\n",
              "18        4        39.2\n",
              "19        5        41.0\n",
              "20        6        42.8\n",
              "21        7        44.6\n",
              "22        8        46.4\n",
              "23        9        48.2\n",
              "24       10        50.0\n",
              "25       20        68.0\n",
              "26       30        86.0\n",
              "27       40       104.0\n",
              "28       50       122.0\n",
              "29       60       140.0"
            ],
            "text/html": [
              "\n",
              "  <div id=\"df-d72cc601-99ea-43fe-a23b-da82df862e39\">\n",
              "    <div class=\"colab-df-container\">\n",
              "      <div>\n",
              "<style scoped>\n",
              "    .dataframe tbody tr th:only-of-type {\n",
              "        vertical-align: middle;\n",
              "    }\n",
              "\n",
              "    .dataframe tbody tr th {\n",
              "        vertical-align: top;\n",
              "    }\n",
              "\n",
              "    .dataframe thead th {\n",
              "        text-align: right;\n",
              "    }\n",
              "</style>\n",
              "<table border=\"1\" class=\"dataframe\">\n",
              "  <thead>\n",
              "    <tr style=\"text-align: right;\">\n",
              "      <th></th>\n",
              "      <th>Celsius</th>\n",
              "      <th>Fahrenheit</th>\n",
              "    </tr>\n",
              "  </thead>\n",
              "  <tbody>\n",
              "    <tr>\n",
              "      <th>0</th>\n",
              "      <td>-50</td>\n",
              "      <td>-58.0</td>\n",
              "    </tr>\n",
              "    <tr>\n",
              "      <th>1</th>\n",
              "      <td>-40</td>\n",
              "      <td>-40.0</td>\n",
              "    </tr>\n",
              "    <tr>\n",
              "      <th>2</th>\n",
              "      <td>-30</td>\n",
              "      <td>-22.0</td>\n",
              "    </tr>\n",
              "    <tr>\n",
              "      <th>3</th>\n",
              "      <td>-20</td>\n",
              "      <td>-4.0</td>\n",
              "    </tr>\n",
              "    <tr>\n",
              "      <th>4</th>\n",
              "      <td>-10</td>\n",
              "      <td>14.0</td>\n",
              "    </tr>\n",
              "    <tr>\n",
              "      <th>5</th>\n",
              "      <td>-9</td>\n",
              "      <td>15.8</td>\n",
              "    </tr>\n",
              "    <tr>\n",
              "      <th>6</th>\n",
              "      <td>-8</td>\n",
              "      <td>17.6</td>\n",
              "    </tr>\n",
              "    <tr>\n",
              "      <th>7</th>\n",
              "      <td>-7</td>\n",
              "      <td>19.4</td>\n",
              "    </tr>\n",
              "    <tr>\n",
              "      <th>8</th>\n",
              "      <td>-6</td>\n",
              "      <td>21.2</td>\n",
              "    </tr>\n",
              "    <tr>\n",
              "      <th>9</th>\n",
              "      <td>-5</td>\n",
              "      <td>23.0</td>\n",
              "    </tr>\n",
              "    <tr>\n",
              "      <th>10</th>\n",
              "      <td>-4</td>\n",
              "      <td>24.8</td>\n",
              "    </tr>\n",
              "    <tr>\n",
              "      <th>11</th>\n",
              "      <td>-3</td>\n",
              "      <td>26.6</td>\n",
              "    </tr>\n",
              "    <tr>\n",
              "      <th>12</th>\n",
              "      <td>-2</td>\n",
              "      <td>28.4</td>\n",
              "    </tr>\n",
              "    <tr>\n",
              "      <th>13</th>\n",
              "      <td>-1</td>\n",
              "      <td>30.2</td>\n",
              "    </tr>\n",
              "    <tr>\n",
              "      <th>14</th>\n",
              "      <td>0</td>\n",
              "      <td>32.0</td>\n",
              "    </tr>\n",
              "    <tr>\n",
              "      <th>15</th>\n",
              "      <td>1</td>\n",
              "      <td>33.8</td>\n",
              "    </tr>\n",
              "    <tr>\n",
              "      <th>16</th>\n",
              "      <td>2</td>\n",
              "      <td>35.6</td>\n",
              "    </tr>\n",
              "    <tr>\n",
              "      <th>17</th>\n",
              "      <td>3</td>\n",
              "      <td>37.4</td>\n",
              "    </tr>\n",
              "    <tr>\n",
              "      <th>18</th>\n",
              "      <td>4</td>\n",
              "      <td>39.2</td>\n",
              "    </tr>\n",
              "    <tr>\n",
              "      <th>19</th>\n",
              "      <td>5</td>\n",
              "      <td>41.0</td>\n",
              "    </tr>\n",
              "    <tr>\n",
              "      <th>20</th>\n",
              "      <td>6</td>\n",
              "      <td>42.8</td>\n",
              "    </tr>\n",
              "    <tr>\n",
              "      <th>21</th>\n",
              "      <td>7</td>\n",
              "      <td>44.6</td>\n",
              "    </tr>\n",
              "    <tr>\n",
              "      <th>22</th>\n",
              "      <td>8</td>\n",
              "      <td>46.4</td>\n",
              "    </tr>\n",
              "    <tr>\n",
              "      <th>23</th>\n",
              "      <td>9</td>\n",
              "      <td>48.2</td>\n",
              "    </tr>\n",
              "    <tr>\n",
              "      <th>24</th>\n",
              "      <td>10</td>\n",
              "      <td>50.0</td>\n",
              "    </tr>\n",
              "    <tr>\n",
              "      <th>25</th>\n",
              "      <td>20</td>\n",
              "      <td>68.0</td>\n",
              "    </tr>\n",
              "    <tr>\n",
              "      <th>26</th>\n",
              "      <td>30</td>\n",
              "      <td>86.0</td>\n",
              "    </tr>\n",
              "    <tr>\n",
              "      <th>27</th>\n",
              "      <td>40</td>\n",
              "      <td>104.0</td>\n",
              "    </tr>\n",
              "    <tr>\n",
              "      <th>28</th>\n",
              "      <td>50</td>\n",
              "      <td>122.0</td>\n",
              "    </tr>\n",
              "    <tr>\n",
              "      <th>29</th>\n",
              "      <td>60</td>\n",
              "      <td>140.0</td>\n",
              "    </tr>\n",
              "  </tbody>\n",
              "</table>\n",
              "</div>\n",
              "      <button class=\"colab-df-convert\" onclick=\"convertToInteractive('df-d72cc601-99ea-43fe-a23b-da82df862e39')\"\n",
              "              title=\"Convert this dataframe to an interactive table.\"\n",
              "              style=\"display:none;\">\n",
              "        \n",
              "  <svg xmlns=\"http://www.w3.org/2000/svg\" height=\"24px\"viewBox=\"0 0 24 24\"\n",
              "       width=\"24px\">\n",
              "    <path d=\"M0 0h24v24H0V0z\" fill=\"none\"/>\n",
              "    <path d=\"M18.56 5.44l.94 2.06.94-2.06 2.06-.94-2.06-.94-.94-2.06-.94 2.06-2.06.94zm-11 1L8.5 8.5l.94-2.06 2.06-.94-2.06-.94L8.5 2.5l-.94 2.06-2.06.94zm10 10l.94 2.06.94-2.06 2.06-.94-2.06-.94-.94-2.06-.94 2.06-2.06.94z\"/><path d=\"M17.41 7.96l-1.37-1.37c-.4-.4-.92-.59-1.43-.59-.52 0-1.04.2-1.43.59L10.3 9.45l-7.72 7.72c-.78.78-.78 2.05 0 2.83L4 21.41c.39.39.9.59 1.41.59.51 0 1.02-.2 1.41-.59l7.78-7.78 2.81-2.81c.8-.78.8-2.07 0-2.86zM5.41 20L4 18.59l7.72-7.72 1.47 1.35L5.41 20z\"/>\n",
              "  </svg>\n",
              "      </button>\n",
              "      \n",
              "  <style>\n",
              "    .colab-df-container {\n",
              "      display:flex;\n",
              "      flex-wrap:wrap;\n",
              "      gap: 12px;\n",
              "    }\n",
              "\n",
              "    .colab-df-convert {\n",
              "      background-color: #E8F0FE;\n",
              "      border: none;\n",
              "      border-radius: 50%;\n",
              "      cursor: pointer;\n",
              "      display: none;\n",
              "      fill: #1967D2;\n",
              "      height: 32px;\n",
              "      padding: 0 0 0 0;\n",
              "      width: 32px;\n",
              "    }\n",
              "\n",
              "    .colab-df-convert:hover {\n",
              "      background-color: #E2EBFA;\n",
              "      box-shadow: 0px 1px 2px rgba(60, 64, 67, 0.3), 0px 1px 3px 1px rgba(60, 64, 67, 0.15);\n",
              "      fill: #174EA6;\n",
              "    }\n",
              "\n",
              "    [theme=dark] .colab-df-convert {\n",
              "      background-color: #3B4455;\n",
              "      fill: #D2E3FC;\n",
              "    }\n",
              "\n",
              "    [theme=dark] .colab-df-convert:hover {\n",
              "      background-color: #434B5C;\n",
              "      box-shadow: 0px 1px 3px 1px rgba(0, 0, 0, 0.15);\n",
              "      filter: drop-shadow(0px 1px 2px rgba(0, 0, 0, 0.3));\n",
              "      fill: #FFFFFF;\n",
              "    }\n",
              "  </style>\n",
              "\n",
              "      <script>\n",
              "        const buttonEl =\n",
              "          document.querySelector('#df-d72cc601-99ea-43fe-a23b-da82df862e39 button.colab-df-convert');\n",
              "        buttonEl.style.display =\n",
              "          google.colab.kernel.accessAllowed ? 'block' : 'none';\n",
              "\n",
              "        async function convertToInteractive(key) {\n",
              "          const element = document.querySelector('#df-d72cc601-99ea-43fe-a23b-da82df862e39');\n",
              "          const dataTable =\n",
              "            await google.colab.kernel.invokeFunction('convertToInteractive',\n",
              "                                                     [key], {});\n",
              "          if (!dataTable) return;\n",
              "\n",
              "          const docLinkHtml = 'Like what you see? Visit the ' +\n",
              "            '<a target=\"_blank\" href=https://colab.research.google.com/notebooks/data_table.ipynb>data table notebook</a>'\n",
              "            + ' to learn more about interactive tables.';\n",
              "          element.innerHTML = '';\n",
              "          dataTable['output_type'] = 'display_data';\n",
              "          await google.colab.output.renderOutput(dataTable, element);\n",
              "          const docLink = document.createElement('div');\n",
              "          docLink.innerHTML = docLinkHtml;\n",
              "          element.appendChild(docLink);\n",
              "        }\n",
              "      </script>\n",
              "    </div>\n",
              "  </div>\n",
              "  "
            ]
          },
          "metadata": {},
          "execution_count": 4
        }
      ],
      "source": [
        "temperature_df"
      ]
    },
    {
      "cell_type": "code",
      "execution_count": 5,
      "metadata": {
        "colab": {
          "base_uri": "https://localhost:8080/"
        },
        "id": "S3llReA9Cgse",
        "outputId": "f8b96ac9-e558-42b2-b2a8-ba2ed1c9b25a"
      },
      "outputs": [
        {
          "output_type": "stream",
          "name": "stdout",
          "text": [
            "<class 'pandas.core.frame.DataFrame'>\n",
            "RangeIndex: 30 entries, 0 to 29\n",
            "Data columns (total 2 columns):\n",
            " #   Column      Non-Null Count  Dtype  \n",
            "---  ------      --------------  -----  \n",
            " 0   Celsius     30 non-null     int64  \n",
            " 1   Fahrenheit  30 non-null     float64\n",
            "dtypes: float64(1), int64(1)\n",
            "memory usage: 608.0 bytes\n"
          ]
        }
      ],
      "source": [
        "temperature_df.info()"
      ]
    },
    {
      "cell_type": "code",
      "execution_count": 6,
      "metadata": {
        "colab": {
          "base_uri": "https://localhost:8080/",
          "height": 300
        },
        "id": "9w0XdRBgCuNN",
        "outputId": "6d7d3657-107c-49e4-89f1-e02cff3ad950"
      },
      "outputs": [
        {
          "output_type": "execute_result",
          "data": {
            "text/plain": [
              "         Celsius  Fahrenheit\n",
              "count  30.000000   30.000000\n",
              "mean    2.000000   35.600000\n",
              "std    22.780815   41.005466\n",
              "min   -50.000000  -58.000000\n",
              "25%    -6.750000   19.850000\n",
              "50%     0.500000   32.900000\n",
              "75%     7.750000   45.950000\n",
              "max    60.000000  140.000000"
            ],
            "text/html": [
              "\n",
              "  <div id=\"df-7a369969-16f5-43aa-9980-d74edc580fcf\">\n",
              "    <div class=\"colab-df-container\">\n",
              "      <div>\n",
              "<style scoped>\n",
              "    .dataframe tbody tr th:only-of-type {\n",
              "        vertical-align: middle;\n",
              "    }\n",
              "\n",
              "    .dataframe tbody tr th {\n",
              "        vertical-align: top;\n",
              "    }\n",
              "\n",
              "    .dataframe thead th {\n",
              "        text-align: right;\n",
              "    }\n",
              "</style>\n",
              "<table border=\"1\" class=\"dataframe\">\n",
              "  <thead>\n",
              "    <tr style=\"text-align: right;\">\n",
              "      <th></th>\n",
              "      <th>Celsius</th>\n",
              "      <th>Fahrenheit</th>\n",
              "    </tr>\n",
              "  </thead>\n",
              "  <tbody>\n",
              "    <tr>\n",
              "      <th>count</th>\n",
              "      <td>30.000000</td>\n",
              "      <td>30.000000</td>\n",
              "    </tr>\n",
              "    <tr>\n",
              "      <th>mean</th>\n",
              "      <td>2.000000</td>\n",
              "      <td>35.600000</td>\n",
              "    </tr>\n",
              "    <tr>\n",
              "      <th>std</th>\n",
              "      <td>22.780815</td>\n",
              "      <td>41.005466</td>\n",
              "    </tr>\n",
              "    <tr>\n",
              "      <th>min</th>\n",
              "      <td>-50.000000</td>\n",
              "      <td>-58.000000</td>\n",
              "    </tr>\n",
              "    <tr>\n",
              "      <th>25%</th>\n",
              "      <td>-6.750000</td>\n",
              "      <td>19.850000</td>\n",
              "    </tr>\n",
              "    <tr>\n",
              "      <th>50%</th>\n",
              "      <td>0.500000</td>\n",
              "      <td>32.900000</td>\n",
              "    </tr>\n",
              "    <tr>\n",
              "      <th>75%</th>\n",
              "      <td>7.750000</td>\n",
              "      <td>45.950000</td>\n",
              "    </tr>\n",
              "    <tr>\n",
              "      <th>max</th>\n",
              "      <td>60.000000</td>\n",
              "      <td>140.000000</td>\n",
              "    </tr>\n",
              "  </tbody>\n",
              "</table>\n",
              "</div>\n",
              "      <button class=\"colab-df-convert\" onclick=\"convertToInteractive('df-7a369969-16f5-43aa-9980-d74edc580fcf')\"\n",
              "              title=\"Convert this dataframe to an interactive table.\"\n",
              "              style=\"display:none;\">\n",
              "        \n",
              "  <svg xmlns=\"http://www.w3.org/2000/svg\" height=\"24px\"viewBox=\"0 0 24 24\"\n",
              "       width=\"24px\">\n",
              "    <path d=\"M0 0h24v24H0V0z\" fill=\"none\"/>\n",
              "    <path d=\"M18.56 5.44l.94 2.06.94-2.06 2.06-.94-2.06-.94-.94-2.06-.94 2.06-2.06.94zm-11 1L8.5 8.5l.94-2.06 2.06-.94-2.06-.94L8.5 2.5l-.94 2.06-2.06.94zm10 10l.94 2.06.94-2.06 2.06-.94-2.06-.94-.94-2.06-.94 2.06-2.06.94z\"/><path d=\"M17.41 7.96l-1.37-1.37c-.4-.4-.92-.59-1.43-.59-.52 0-1.04.2-1.43.59L10.3 9.45l-7.72 7.72c-.78.78-.78 2.05 0 2.83L4 21.41c.39.39.9.59 1.41.59.51 0 1.02-.2 1.41-.59l7.78-7.78 2.81-2.81c.8-.78.8-2.07 0-2.86zM5.41 20L4 18.59l7.72-7.72 1.47 1.35L5.41 20z\"/>\n",
              "  </svg>\n",
              "      </button>\n",
              "      \n",
              "  <style>\n",
              "    .colab-df-container {\n",
              "      display:flex;\n",
              "      flex-wrap:wrap;\n",
              "      gap: 12px;\n",
              "    }\n",
              "\n",
              "    .colab-df-convert {\n",
              "      background-color: #E8F0FE;\n",
              "      border: none;\n",
              "      border-radius: 50%;\n",
              "      cursor: pointer;\n",
              "      display: none;\n",
              "      fill: #1967D2;\n",
              "      height: 32px;\n",
              "      padding: 0 0 0 0;\n",
              "      width: 32px;\n",
              "    }\n",
              "\n",
              "    .colab-df-convert:hover {\n",
              "      background-color: #E2EBFA;\n",
              "      box-shadow: 0px 1px 2px rgba(60, 64, 67, 0.3), 0px 1px 3px 1px rgba(60, 64, 67, 0.15);\n",
              "      fill: #174EA6;\n",
              "    }\n",
              "\n",
              "    [theme=dark] .colab-df-convert {\n",
              "      background-color: #3B4455;\n",
              "      fill: #D2E3FC;\n",
              "    }\n",
              "\n",
              "    [theme=dark] .colab-df-convert:hover {\n",
              "      background-color: #434B5C;\n",
              "      box-shadow: 0px 1px 3px 1px rgba(0, 0, 0, 0.15);\n",
              "      filter: drop-shadow(0px 1px 2px rgba(0, 0, 0, 0.3));\n",
              "      fill: #FFFFFF;\n",
              "    }\n",
              "  </style>\n",
              "\n",
              "      <script>\n",
              "        const buttonEl =\n",
              "          document.querySelector('#df-7a369969-16f5-43aa-9980-d74edc580fcf button.colab-df-convert');\n",
              "        buttonEl.style.display =\n",
              "          google.colab.kernel.accessAllowed ? 'block' : 'none';\n",
              "\n",
              "        async function convertToInteractive(key) {\n",
              "          const element = document.querySelector('#df-7a369969-16f5-43aa-9980-d74edc580fcf');\n",
              "          const dataTable =\n",
              "            await google.colab.kernel.invokeFunction('convertToInteractive',\n",
              "                                                     [key], {});\n",
              "          if (!dataTable) return;\n",
              "\n",
              "          const docLinkHtml = 'Like what you see? Visit the ' +\n",
              "            '<a target=\"_blank\" href=https://colab.research.google.com/notebooks/data_table.ipynb>data table notebook</a>'\n",
              "            + ' to learn more about interactive tables.';\n",
              "          element.innerHTML = '';\n",
              "          dataTable['output_type'] = 'display_data';\n",
              "          await google.colab.output.renderOutput(dataTable, element);\n",
              "          const docLink = document.createElement('div');\n",
              "          docLink.innerHTML = docLinkHtml;\n",
              "          element.appendChild(docLink);\n",
              "        }\n",
              "      </script>\n",
              "    </div>\n",
              "  </div>\n",
              "  "
            ]
          },
          "metadata": {},
          "execution_count": 6
        }
      ],
      "source": [
        "temperature_df.describe()"
      ]
    },
    {
      "cell_type": "code",
      "execution_count": 7,
      "metadata": {
        "colab": {
          "base_uri": "https://localhost:8080/",
          "height": 449
        },
        "id": "ugy5YAxkDOLm",
        "outputId": "5de6e2fc-0f16-4d0c-b0dc-c13b82e6c55e"
      },
      "outputs": [
        {
          "output_type": "display_data",
          "data": {
            "text/plain": [
              "<Figure size 640x480 with 1 Axes>"
            ],
            "image/png": "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\n"
          },
          "metadata": {}
        }
      ],
      "source": [
        "sns.scatterplot(x=temperature_df['Celsius'], y=temperature_df['Fahrenheit']);"
      ]
    },
    {
      "cell_type": "code",
      "execution_count": 8,
      "metadata": {
        "id": "wJCm4Z27GDH9"
      },
      "outputs": [],
      "source": [
        "x_train = temperature_df['Celsius']\n",
        "y_train = temperature_df['Fahrenheit']"
      ]
    },
    {
      "cell_type": "code",
      "execution_count": 9,
      "metadata": {
        "colab": {
          "base_uri": "https://localhost:8080/"
        },
        "id": "Wiqhc8o9Gt-1",
        "outputId": "6cef4a6c-cb4c-4ea9-bd0a-9405f8dd58b5"
      },
      "outputs": [
        {
          "output_type": "execute_result",
          "data": {
            "text/plain": [
              "0    -50\n",
              "1    -40\n",
              "2    -30\n",
              "3    -20\n",
              "4    -10\n",
              "5     -9\n",
              "6     -8\n",
              "7     -7\n",
              "8     -6\n",
              "9     -5\n",
              "10    -4\n",
              "11    -3\n",
              "12    -2\n",
              "13    -1\n",
              "14     0\n",
              "15     1\n",
              "16     2\n",
              "17     3\n",
              "18     4\n",
              "19     5\n",
              "20     6\n",
              "21     7\n",
              "22     8\n",
              "23     9\n",
              "24    10\n",
              "25    20\n",
              "26    30\n",
              "27    40\n",
              "28    50\n",
              "29    60\n",
              "Name: Celsius, dtype: int64"
            ]
          },
          "metadata": {},
          "execution_count": 9
        }
      ],
      "source": [
        "x_train"
      ]
    },
    {
      "cell_type": "code",
      "execution_count": 10,
      "metadata": {
        "colab": {
          "base_uri": "https://localhost:8080/"
        },
        "id": "mfK6rx8HGxJ0",
        "outputId": "b446fdf5-5700-4d08-ef60-00524bd45855"
      },
      "outputs": [
        {
          "output_type": "execute_result",
          "data": {
            "text/plain": [
              "0     -58.0\n",
              "1     -40.0\n",
              "2     -22.0\n",
              "3      -4.0\n",
              "4      14.0\n",
              "5      15.8\n",
              "6      17.6\n",
              "7      19.4\n",
              "8      21.2\n",
              "9      23.0\n",
              "10     24.8\n",
              "11     26.6\n",
              "12     28.4\n",
              "13     30.2\n",
              "14     32.0\n",
              "15     33.8\n",
              "16     35.6\n",
              "17     37.4\n",
              "18     39.2\n",
              "19     41.0\n",
              "20     42.8\n",
              "21     44.6\n",
              "22     46.4\n",
              "23     48.2\n",
              "24     50.0\n",
              "25     68.0\n",
              "26     86.0\n",
              "27    104.0\n",
              "28    122.0\n",
              "29    140.0\n",
              "Name: Fahrenheit, dtype: float64"
            ]
          },
          "metadata": {},
          "execution_count": 10
        }
      ],
      "source": [
        "y_train"
      ]
    },
    {
      "cell_type": "code",
      "execution_count": 11,
      "metadata": {
        "colab": {
          "base_uri": "https://localhost:8080/"
        },
        "id": "dylcOrwfG7_u",
        "outputId": "620337ea-79d5-4967-9917-4748efad4470"
      },
      "outputs": [
        {
          "output_type": "execute_result",
          "data": {
            "text/plain": [
              "(30,)"
            ]
          },
          "metadata": {},
          "execution_count": 11
        }
      ],
      "source": [
        "x_train.shape"
      ]
    },
    {
      "cell_type": "code",
      "execution_count": 12,
      "metadata": {
        "colab": {
          "base_uri": "https://localhost:8080/"
        },
        "id": "XyC9jruOG_Y9",
        "outputId": "304eee3f-d1b9-4030-9d27-6fa3d8add241"
      },
      "outputs": [
        {
          "output_type": "execute_result",
          "data": {
            "text/plain": [
              "(30,)"
            ]
          },
          "metadata": {},
          "execution_count": 12
        }
      ],
      "source": [
        "y_train.shape"
      ]
    },
    {
      "cell_type": "code",
      "execution_count": 13,
      "metadata": {
        "colab": {
          "base_uri": "https://localhost:8080/"
        },
        "id": "TRzvDbbMHFeF",
        "outputId": "607e1e86-9cac-4098-8926-d924cc3038fb"
      },
      "outputs": [
        {
          "output_type": "stream",
          "name": "stdout",
          "text": [
            "Model: \"sequential\"\n",
            "_________________________________________________________________\n",
            " Layer (type)                Output Shape              Param #   \n",
            "=================================================================\n",
            " dense (Dense)               (None, 1)                 2         \n",
            "                                                                 \n",
            "=================================================================\n",
            "Total params: 2\n",
            "Trainable params: 2\n",
            "Non-trainable params: 0\n",
            "_________________________________________________________________\n"
          ]
        }
      ],
      "source": [
        "model = tf.keras.Sequential()\n",
        "model.add(tf.keras.layers.Dense(units = 1, input_shape = [1]))\n",
        "model.summary()"
      ]
    },
    {
      "cell_type": "code",
      "execution_count": 14,
      "metadata": {
        "id": "OLMCN6LmKEeN"
      },
      "outputs": [],
      "source": [
        "model.compile(optimizer=tf.keras.optimizers.Adam(0.1), loss = 'mean_squared_error')"
      ]
    },
    {
      "cell_type": "code",
      "execution_count": 21,
      "metadata": {
        "colab": {
          "base_uri": "https://localhost:8080/"
        },
        "id": "ShZ3dhjPK_rc",
        "outputId": "e85afe6c-23ea-4aa1-f399-22df8fc068ee"
      },
      "outputs": [
        {
          "output_type": "stream",
          "name": "stdout",
          "text": [
            "Epoch 1/1000\n",
            "1/1 [==============================] - 0s 11ms/step - loss: 2.0908e-09\n",
            "Epoch 2/1000\n",
            "1/1 [==============================] - 0s 11ms/step - loss: 2.0908e-09\n",
            "Epoch 3/1000\n",
            "1/1 [==============================] - 0s 10ms/step - loss: 2.0908e-09\n",
            "Epoch 4/1000\n",
            "1/1 [==============================] - 0s 16ms/step - loss: 2.0908e-09\n",
            "Epoch 5/1000\n",
            "1/1 [==============================] - 0s 8ms/step - loss: 2.0908e-09\n",
            "Epoch 6/1000\n",
            "1/1 [==============================] - 0s 10ms/step - loss: 2.0908e-09\n",
            "Epoch 7/1000\n",
            "1/1 [==============================] - 0s 17ms/step - loss: 2.0908e-09\n",
            "Epoch 8/1000\n",
            "1/1 [==============================] - 0s 14ms/step - loss: 2.0908e-09\n",
            "Epoch 9/1000\n",
            "1/1 [==============================] - 0s 10ms/step - loss: 2.0908e-09\n",
            "Epoch 10/1000\n",
            "1/1 [==============================] - 0s 7ms/step - loss: 2.0908e-09\n",
            "Epoch 11/1000\n",
            "1/1 [==============================] - 0s 9ms/step - loss: 2.0908e-09\n",
            "Epoch 12/1000\n",
            "1/1 [==============================] - 0s 7ms/step - loss: 2.0908e-09\n",
            "Epoch 13/1000\n",
            "1/1 [==============================] - 0s 8ms/step - loss: 2.0908e-09\n",
            "Epoch 14/1000\n",
            "1/1 [==============================] - 0s 7ms/step - loss: 2.0908e-09\n",
            "Epoch 15/1000\n",
            "1/1 [==============================] - 0s 11ms/step - loss: 2.0908e-09\n",
            "Epoch 16/1000\n",
            "1/1 [==============================] - 0s 7ms/step - loss: 2.0908e-09\n",
            "Epoch 17/1000\n",
            "1/1 [==============================] - 0s 8ms/step - loss: 2.0908e-09\n",
            "Epoch 18/1000\n",
            "1/1 [==============================] - 0s 10ms/step - loss: 1.9256e-09\n",
            "Epoch 19/1000\n",
            "1/1 [==============================] - 0s 7ms/step - loss: 1.9256e-09\n",
            "Epoch 20/1000\n",
            "1/1 [==============================] - 0s 8ms/step - loss: 1.9256e-09\n",
            "Epoch 21/1000\n",
            "1/1 [==============================] - 0s 14ms/step - loss: 1.9256e-09\n",
            "Epoch 22/1000\n",
            "1/1 [==============================] - 0s 8ms/step - loss: 1.9256e-09\n",
            "Epoch 23/1000\n",
            "1/1 [==============================] - 0s 8ms/step - loss: 1.9256e-09\n",
            "Epoch 24/1000\n",
            "1/1 [==============================] - 0s 11ms/step - loss: 1.9256e-09\n",
            "Epoch 25/1000\n",
            "1/1 [==============================] - 0s 8ms/step - loss: 1.9256e-09\n",
            "Epoch 26/1000\n",
            "1/1 [==============================] - 0s 35ms/step - loss: 1.9256e-09\n",
            "Epoch 27/1000\n",
            "1/1 [==============================] - 0s 12ms/step - loss: 1.9256e-09\n",
            "Epoch 28/1000\n",
            "1/1 [==============================] - 0s 10ms/step - loss: 1.9256e-09\n",
            "Epoch 29/1000\n",
            "1/1 [==============================] - 0s 9ms/step - loss: 1.9256e-09\n",
            "Epoch 30/1000\n",
            "1/1 [==============================] - 0s 8ms/step - loss: 1.9256e-09\n",
            "Epoch 31/1000\n",
            "1/1 [==============================] - 0s 9ms/step - loss: 1.9256e-09\n",
            "Epoch 32/1000\n",
            "1/1 [==============================] - 0s 8ms/step - loss: 1.9256e-09\n",
            "Epoch 33/1000\n",
            "1/1 [==============================] - 0s 9ms/step - loss: 1.9256e-09\n",
            "Epoch 34/1000\n",
            "1/1 [==============================] - 0s 10ms/step - loss: 1.9256e-09\n",
            "Epoch 35/1000\n",
            "1/1 [==============================] - 0s 8ms/step - loss: 1.9256e-09\n",
            "Epoch 36/1000\n",
            "1/1 [==============================] - 0s 8ms/step - loss: 1.9256e-09\n",
            "Epoch 37/1000\n",
            "1/1 [==============================] - 0s 9ms/step - loss: 1.9256e-09\n",
            "Epoch 38/1000\n",
            "1/1 [==============================] - 0s 8ms/step - loss: 1.9256e-09\n",
            "Epoch 39/1000\n",
            "1/1 [==============================] - 0s 9ms/step - loss: 1.9256e-09\n",
            "Epoch 40/1000\n",
            "1/1 [==============================] - 0s 6ms/step - loss: 1.9256e-09\n",
            "Epoch 41/1000\n",
            "1/1 [==============================] - 0s 9ms/step - loss: 1.9256e-09\n",
            "Epoch 42/1000\n",
            "1/1 [==============================] - 0s 10ms/step - loss: 1.9256e-09\n",
            "Epoch 43/1000\n",
            "1/1 [==============================] - 0s 6ms/step - loss: 1.9256e-09\n",
            "Epoch 44/1000\n",
            "1/1 [==============================] - 0s 7ms/step - loss: 1.9256e-09\n",
            "Epoch 45/1000\n",
            "1/1 [==============================] - 0s 8ms/step - loss: 1.9256e-09\n",
            "Epoch 46/1000\n",
            "1/1 [==============================] - 0s 7ms/step - loss: 1.9256e-09\n",
            "Epoch 47/1000\n",
            "1/1 [==============================] - 0s 9ms/step - loss: 1.9256e-09\n",
            "Epoch 48/1000\n",
            "1/1 [==============================] - 0s 8ms/step - loss: 1.9256e-09\n",
            "Epoch 49/1000\n",
            "1/1 [==============================] - 0s 8ms/step - loss: 1.9256e-09\n",
            "Epoch 50/1000\n",
            "1/1 [==============================] - 0s 7ms/step - loss: 1.9256e-09\n",
            "Epoch 51/1000\n",
            "1/1 [==============================] - 0s 8ms/step - loss: 1.9256e-09\n",
            "Epoch 52/1000\n",
            "1/1 [==============================] - 0s 8ms/step - loss: 1.9256e-09\n",
            "Epoch 53/1000\n",
            "1/1 [==============================] - 0s 10ms/step - loss: 1.9256e-09\n",
            "Epoch 54/1000\n",
            "1/1 [==============================] - 0s 7ms/step - loss: 1.9256e-09\n",
            "Epoch 55/1000\n",
            "1/1 [==============================] - 0s 10ms/step - loss: 1.9256e-09\n",
            "Epoch 56/1000\n",
            "1/1 [==============================] - 0s 8ms/step - loss: 1.9256e-09\n",
            "Epoch 57/1000\n",
            "1/1 [==============================] - 0s 7ms/step - loss: 1.9256e-09\n",
            "Epoch 58/1000\n",
            "1/1 [==============================] - 0s 8ms/step - loss: 1.9256e-09\n",
            "Epoch 59/1000\n",
            "1/1 [==============================] - 0s 8ms/step - loss: 1.9256e-09\n",
            "Epoch 60/1000\n",
            "1/1 [==============================] - 0s 13ms/step - loss: 1.9256e-09\n",
            "Epoch 61/1000\n",
            "1/1 [==============================] - 0s 9ms/step - loss: 1.9256e-09\n",
            "Epoch 62/1000\n",
            "1/1 [==============================] - 0s 9ms/step - loss: 1.9256e-09\n",
            "Epoch 63/1000\n",
            "1/1 [==============================] - 0s 12ms/step - loss: 1.9256e-09\n",
            "Epoch 64/1000\n",
            "1/1 [==============================] - 0s 8ms/step - loss: 1.9256e-09\n",
            "Epoch 65/1000\n",
            "1/1 [==============================] - 0s 7ms/step - loss: 1.9256e-09\n",
            "Epoch 66/1000\n",
            "1/1 [==============================] - 0s 6ms/step - loss: 1.9256e-09\n",
            "Epoch 67/1000\n",
            "1/1 [==============================] - 0s 13ms/step - loss: 1.9256e-09\n",
            "Epoch 68/1000\n",
            "1/1 [==============================] - 0s 14ms/step - loss: 1.9256e-09\n",
            "Epoch 69/1000\n",
            "1/1 [==============================] - 0s 10ms/step - loss: 1.9256e-09\n",
            "Epoch 70/1000\n",
            "1/1 [==============================] - 0s 10ms/step - loss: 1.9256e-09\n",
            "Epoch 71/1000\n",
            "1/1 [==============================] - 0s 7ms/step - loss: 1.9256e-09\n",
            "Epoch 72/1000\n",
            "1/1 [==============================] - 0s 7ms/step - loss: 1.9256e-09\n",
            "Epoch 73/1000\n",
            "1/1 [==============================] - 0s 10ms/step - loss: 1.9256e-09\n",
            "Epoch 74/1000\n",
            "1/1 [==============================] - 0s 7ms/step - loss: 1.9256e-09\n",
            "Epoch 75/1000\n",
            "1/1 [==============================] - 0s 7ms/step - loss: 1.9256e-09\n",
            "Epoch 76/1000\n",
            "1/1 [==============================] - 0s 5ms/step - loss: 1.9256e-09\n",
            "Epoch 77/1000\n",
            "1/1 [==============================] - 0s 6ms/step - loss: 1.9256e-09\n",
            "Epoch 78/1000\n",
            "1/1 [==============================] - 0s 6ms/step - loss: 1.9256e-09\n",
            "Epoch 79/1000\n",
            "1/1 [==============================] - 0s 6ms/step - loss: 1.9256e-09\n",
            "Epoch 80/1000\n",
            "1/1 [==============================] - 0s 6ms/step - loss: 1.9256e-09\n",
            "Epoch 81/1000\n",
            "1/1 [==============================] - 0s 7ms/step - loss: 1.9256e-09\n",
            "Epoch 82/1000\n",
            "1/1 [==============================] - 0s 8ms/step - loss: 1.9256e-09\n",
            "Epoch 83/1000\n",
            "1/1 [==============================] - 0s 6ms/step - loss: 1.9256e-09\n",
            "Epoch 84/1000\n",
            "1/1 [==============================] - 0s 6ms/step - loss: 1.9256e-09\n",
            "Epoch 85/1000\n",
            "1/1 [==============================] - 0s 8ms/step - loss: 1.9256e-09\n",
            "Epoch 86/1000\n",
            "1/1 [==============================] - 0s 6ms/step - loss: 1.9256e-09\n",
            "Epoch 87/1000\n",
            "1/1 [==============================] - 0s 7ms/step - loss: 1.9256e-09\n",
            "Epoch 88/1000\n",
            "1/1 [==============================] - 0s 8ms/step - loss: 1.9256e-09\n",
            "Epoch 89/1000\n",
            "1/1 [==============================] - 0s 7ms/step - loss: 1.9256e-09\n",
            "Epoch 90/1000\n",
            "1/1 [==============================] - 0s 14ms/step - loss: 1.7204e-09\n",
            "Epoch 91/1000\n",
            "1/1 [==============================] - 0s 6ms/step - loss: 1.7204e-09\n",
            "Epoch 92/1000\n",
            "1/1 [==============================] - 0s 7ms/step - loss: 1.7204e-09\n",
            "Epoch 93/1000\n",
            "1/1 [==============================] - 0s 6ms/step - loss: 1.7204e-09\n",
            "Epoch 94/1000\n",
            "1/1 [==============================] - 0s 9ms/step - loss: 1.7655e-09\n",
            "Epoch 95/1000\n",
            "1/1 [==============================] - 0s 8ms/step - loss: 1.7655e-09\n",
            "Epoch 96/1000\n",
            "1/1 [==============================] - 0s 8ms/step - loss: 1.7655e-09\n",
            "Epoch 97/1000\n",
            "1/1 [==============================] - 0s 9ms/step - loss: 1.7655e-09\n",
            "Epoch 98/1000\n",
            "1/1 [==============================] - 0s 9ms/step - loss: 1.7655e-09\n",
            "Epoch 99/1000\n",
            "1/1 [==============================] - 0s 6ms/step - loss: 1.7204e-09\n",
            "Epoch 100/1000\n",
            
            (...)
             
             
            "1/1 [==============================] - 0s 7ms/step - loss: 6.9695e-10\n",
            "Epoch 900/1000\n",
            "1/1 [==============================] - 0s 8ms/step - loss: 6.9695e-10\n",
            "Epoch 901/1000\n",
            "1/1 [==============================] - 0s 5ms/step - loss: 6.9695e-10\n",
            "Epoch 902/1000\n",
            "1/1 [==============================] - 0s 16ms/step - loss: 7.1877e-10\n",
            "Epoch 903/1000\n",
            "1/1 [==============================] - 0s 6ms/step - loss: 7.1877e-10\n",
            "Epoch 904/1000\n",
            "1/1 [==============================] - 0s 11ms/step - loss: 7.1877e-10\n",
            "Epoch 905/1000\n",
            "1/1 [==============================] - 0s 6ms/step - loss: 7.1877e-10\n",
            "Epoch 906/1000\n",
            "1/1 [==============================] - 0s 5ms/step - loss: 7.1877e-10\n",
            "Epoch 907/1000\n",
            "1/1 [==============================] - 0s 6ms/step - loss: 7.1877e-10\n",
            "Epoch 908/1000\n",
            "1/1 [==============================] - 0s 6ms/step - loss: 6.9695e-10\n",
            "Epoch 909/1000\n",
            "1/1 [==============================] - 0s 6ms/step - loss: 6.9695e-10\n",
            "Epoch 910/1000\n",
            "1/1 [==============================] - 0s 6ms/step - loss: 6.9695e-10\n",
            "Epoch 911/1000\n",
            "1/1 [==============================] - 0s 7ms/step - loss: 6.9695e-10\n",
            "Epoch 912/1000\n",
            "1/1 [==============================] - 0s 11ms/step - loss: 7.1877e-10\n",
            "Epoch 913/1000\n",
            "1/1 [==============================] - 0s 5ms/step - loss: 7.1877e-10\n",
            "Epoch 914/1000\n",
            "1/1 [==============================] - 0s 5ms/step - loss: 7.1877e-10\n",
            "Epoch 915/1000\n",
            "1/1 [==============================] - 0s 10ms/step - loss: 7.1877e-10\n",
            "Epoch 916/1000\n",
            "1/1 [==============================] - 0s 6ms/step - loss: 7.1877e-10\n",
            "Epoch 917/1000\n",
            "1/1 [==============================] - 0s 5ms/step - loss: 7.1877e-10\n",
            "Epoch 918/1000\n",
            "1/1 [==============================] - 0s 5ms/step - loss: 6.9695e-10\n",
            "Epoch 919/1000\n",
            "1/1 [==============================] - 0s 6ms/step - loss: 6.9695e-10\n",
            "Epoch 920/1000\n",
            "1/1 [==============================] - 0s 10ms/step - loss: 6.9695e-10\n",
            "Epoch 921/1000\n",
            "1/1 [==============================] - 0s 6ms/step - loss: 6.9695e-10\n",
            "Epoch 922/1000\n",
            "1/1 [==============================] - 0s 5ms/step - loss: 7.1877e-10\n",
            "Epoch 923/1000\n",
            "1/1 [==============================] - 0s 8ms/step - loss: 7.1877e-10\n",
            "Epoch 924/1000\n",
            "1/1 [==============================] - 0s 6ms/step - loss: 7.1877e-10\n",
            "Epoch 925/1000\n",
            "1/1 [==============================] - 0s 5ms/step - loss: 7.1877e-10\n",
            "Epoch 926/1000\n",
            "1/1 [==============================] - 0s 5ms/step - loss: 7.1877e-10\n",
            "Epoch 927/1000\n",
            "1/1 [==============================] - 0s 8ms/step - loss: 7.1877e-10\n",
            "Epoch 928/1000\n",
            "1/1 [==============================] - 0s 6ms/step - loss: 6.9695e-10\n",
            "Epoch 929/1000\n",
            "1/1 [==============================] - 0s 9ms/step - loss: 6.9695e-10\n",
            "Epoch 930/1000\n",
            "1/1 [==============================] - 0s 6ms/step - loss: 6.9695e-10\n",
            "Epoch 931/1000\n",
            "1/1 [==============================] - 0s 10ms/step - loss: 6.9695e-10\n",
            "Epoch 932/1000\n",
            "1/1 [==============================] - 0s 5ms/step - loss: 7.1877e-10\n",
            "Epoch 933/1000\n",
            "1/1 [==============================] - 0s 5ms/step - loss: 7.1877e-10\n",
            "Epoch 934/1000\n",
            "1/1 [==============================] - 0s 6ms/step - loss: 7.1877e-10\n",
            "Epoch 935/1000\n",
            "1/1 [==============================] - 0s 6ms/step - loss: 7.1877e-10\n",
            "Epoch 936/1000\n",
            "1/1 [==============================] - 0s 9ms/step - loss: 7.1877e-10\n",
            "Epoch 937/1000\n",
            "1/1 [==============================] - 0s 5ms/step - loss: 7.1877e-10\n",
            "Epoch 938/1000\n",
            "1/1 [==============================] - 0s 8ms/step - loss: 6.9695e-10\n",
            "Epoch 939/1000\n",
            "1/1 [==============================] - 0s 7ms/step - loss: 6.9695e-10\n",
            "Epoch 940/1000\n",
            "1/1 [==============================] - 0s 5ms/step - loss: 6.9695e-10\n",
            "Epoch 941/1000\n",
            "1/1 [==============================] - 0s 6ms/step - loss: 6.9695e-10\n",
            "Epoch 942/1000\n",
            "1/1 [==============================] - 0s 8ms/step - loss: 7.1877e-10\n",
            "Epoch 943/1000\n",
            "1/1 [==============================] - 0s 11ms/step - loss: 7.1877e-10\n",
            "Epoch 944/1000\n",
            "1/1 [==============================] - 0s 7ms/step - loss: 7.1877e-10\n",
            "Epoch 945/1000\n",
            "1/1 [==============================] - 0s 9ms/step - loss: 7.1877e-10\n",
            "Epoch 946/1000\n",
            "1/1 [==============================] - 0s 8ms/step - loss: 7.1877e-10\n",
            "Epoch 947/1000\n",
            "1/1 [==============================] - 0s 11ms/step - loss: 7.1877e-10\n",
            "Epoch 948/1000\n",
            "1/1 [==============================] - 0s 9ms/step - loss: 6.9695e-10\n",
            "Epoch 949/1000\n",
            "1/1 [==============================] - 0s 11ms/step - loss: 6.9695e-10\n",
            "Epoch 950/1000\n",
            "1/1 [==============================] - 0s 7ms/step - loss: 6.9695e-10\n",
            "Epoch 951/1000\n",
            "1/1 [==============================] - 0s 9ms/step - loss: 6.9695e-10\n",
            "Epoch 952/1000\n",
            "1/1 [==============================] - 0s 7ms/step - loss: 7.1877e-10\n",
            "Epoch 953/1000\n",
            "1/1 [==============================] - 0s 8ms/step - loss: 7.1877e-10\n",
            "Epoch 954/1000\n",
            "1/1 [==============================] - 0s 8ms/step - loss: 7.1877e-10\n",
            "Epoch 955/1000\n",
            "1/1 [==============================] - 0s 6ms/step - loss: 7.1877e-10\n",
            "Epoch 956/1000\n",
            "1/1 [==============================] - 0s 6ms/step - loss: 7.1877e-10\n",
            "Epoch 957/1000\n",
            "1/1 [==============================] - 0s 11ms/step - loss: 7.1877e-10\n",
            "Epoch 958/1000\n",
            "1/1 [==============================] - 0s 6ms/step - loss: 6.9695e-10\n",
            "Epoch 959/1000\n",
            "1/1 [==============================] - 0s 8ms/step - loss: 6.9695e-10\n",
            "Epoch 960/1000\n",
            "1/1 [==============================] - 0s 7ms/step - loss: 6.9695e-10\n",
            "Epoch 961/1000\n",
            "1/1 [==============================] - 0s 6ms/step - loss: 6.9695e-10\n",
            "Epoch 962/1000\n",
            "1/1 [==============================] - 0s 6ms/step - loss: 7.1877e-10\n",
            "Epoch 963/1000\n",
            "1/1 [==============================] - 0s 6ms/step - loss: 7.1877e-10\n",
            "Epoch 964/1000\n",
            "1/1 [==============================] - 0s 6ms/step - loss: 7.1877e-10\n",
            "Epoch 965/1000\n",
            "1/1 [==============================] - 0s 6ms/step - loss: 7.1877e-10\n",
            "Epoch 966/1000\n",
            "1/1 [==============================] - 0s 6ms/step - loss: 7.1877e-10\n",
            "Epoch 967/1000\n",
            "1/1 [==============================] - 0s 6ms/step - loss: 7.1877e-10\n",
            "Epoch 968/1000\n",
            "1/1 [==============================] - 0s 11ms/step - loss: 6.9695e-10\n",
            "Epoch 969/1000\n",
            "1/1 [==============================] - 0s 6ms/step - loss: 6.9695e-10\n",
            "Epoch 970/1000\n",
            "1/1 [==============================] - 0s 12ms/step - loss: 6.9695e-10\n",
            "Epoch 971/1000\n",
            "1/1 [==============================] - 0s 11ms/step - loss: 6.9695e-10\n",
            "Epoch 972/1000\n",
            "1/1 [==============================] - 0s 8ms/step - loss: 7.1877e-10\n",
            "Epoch 973/1000\n",
            "1/1 [==============================] - 0s 9ms/step - loss: 7.1877e-10\n",
            "Epoch 974/1000\n",
            "1/1 [==============================] - 0s 9ms/step - loss: 7.1877e-10\n",
            "Epoch 975/1000\n",
            "1/1 [==============================] - 0s 8ms/step - loss: 7.1877e-10\n",
            "Epoch 976/1000\n",
            "1/1 [==============================] - 0s 9ms/step - loss: 7.1877e-10\n",
            "Epoch 977/1000\n",
            "1/1 [==============================] - 0s 9ms/step - loss: 7.1877e-10\n",
            "Epoch 978/1000\n",
            "1/1 [==============================] - 0s 8ms/step - loss: 6.9695e-10\n",
            "Epoch 979/1000\n",
            "1/1 [==============================] - 0s 11ms/step - loss: 6.9695e-10\n",
            "Epoch 980/1000\n",
            "1/1 [==============================] - 0s 11ms/step - loss: 6.9695e-10\n",
            "Epoch 981/1000\n",
            "1/1 [==============================] - 0s 10ms/step - loss: 6.9695e-10\n",
            "Epoch 982/1000\n",
            "1/1 [==============================] - 0s 9ms/step - loss: 7.1877e-10\n",
            "Epoch 983/1000\n",
            "1/1 [==============================] - 0s 8ms/step - loss: 7.1877e-10\n",
            "Epoch 984/1000\n",
            "1/1 [==============================] - 0s 10ms/step - loss: 7.1877e-10\n",
            "Epoch 985/1000\n",
            "1/1 [==============================] - 0s 7ms/step - loss: 7.1877e-10\n",
            "Epoch 986/1000\n",
            "1/1 [==============================] - 0s 8ms/step - loss: 7.1877e-10\n",
            "Epoch 987/1000\n",
            "1/1 [==============================] - 0s 10ms/step - loss: 7.1877e-10\n",
            "Epoch 988/1000\n",
            "1/1 [==============================] - 0s 7ms/step - loss: 6.9695e-10\n",
            "Epoch 989/1000\n",
            "1/1 [==============================] - 0s 7ms/step - loss: 6.9695e-10\n",
            "Epoch 990/1000\n",
            "1/1 [==============================] - 0s 8ms/step - loss: 6.9695e-10\n",
            "Epoch 991/1000\n",
            "1/1 [==============================] - 0s 9ms/step - loss: 6.9695e-10\n",
            "Epoch 992/1000\n",
            "1/1 [==============================] - 0s 7ms/step - loss: 7.1877e-10\n",
            "Epoch 993/1000\n",
            "1/1 [==============================] - 0s 8ms/step - loss: 7.1877e-10\n",
            "Epoch 994/1000\n",
            "1/1 [==============================] - 0s 8ms/step - loss: 7.1877e-10\n",
            "Epoch 995/1000\n",
            "1/1 [==============================] - 0s 11ms/step - loss: 7.1877e-10\n",
            "Epoch 996/1000\n",
            "1/1 [==============================] - 0s 7ms/step - loss: 7.1877e-10\n",
            "Epoch 997/1000\n",
            "1/1 [==============================] - 0s 9ms/step - loss: 7.1877e-10\n",
            "Epoch 998/1000\n",
            "1/1 [==============================] - 0s 8ms/step - loss: 6.9695e-10\n",
            "Epoch 999/1000\n",
            "1/1 [==============================] - 0s 8ms/step - loss: 6.9695e-10\n",
            "Epoch 1000/1000\n",
            "1/1 [==============================] - 0s 7ms/step - loss: 6.9695e-10\n"
          ]
        }
      ],
      "source": [
        "epochs_hist = model.fit(x_train, y_train, epochs = 1000)"
      ]
    },
    {
      "cell_type": "code",
      "execution_count": 16,
      "metadata": {
        "colab": {
          "base_uri": "https://localhost:8080/"
        },
        "id": "o1r_OqsbSvc6",
        "outputId": "678082df-6da8-40b8-b967-686f40a1a7be"
      },
      "outputs": [
        {
          "output_type": "execute_result",
          "data": {
            "text/plain": [
              "dict_keys(['loss'])"
            ]
          },
          "metadata": {},
          "execution_count": 16
        }
      ],
      "source": [
        "epochs_hist.history.keys()"
      ]
    },
    {
      "cell_type": "code",
      "execution_count": 17,
      "metadata": {
        "colab": {
          "base_uri": "https://localhost:8080/",
          "height": 472
        },
        "id": "bCXtXvuxS4YS",
        "outputId": "3bc31c63-8648-4c03-af3c-7c5be2af30c0"
      },
      "outputs": [
        {
          "output_type": "display_data",
          "data": {
            "text/plain": [
              "<Figure size 640x480 with 1 Axes>"
            ],
            "image/png": "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\n"
          },
          "metadata": {}
        }
      ],
      "source": [
        "plt.plot(epochs_hist.history['loss'])\n",
        "plt.title('Model Loss Progress During Training')\n",
        "plt.xlabel('Epoch')\n",
        "plt.ylabel('Training loss')\n",
        "plt.legend(['Training Loss']);"
      ]
    },
    {
      "cell_type": "code",
      "execution_count": 18,
      "metadata": {
        "colab": {
          "base_uri": "https://localhost:8080/"
        },
        "id": "6l9CFFxlTU9q",
        "outputId": "57f36ebc-e712-49c7-a82d-4ac8001b09b0"
      },
      "outputs": [
        {
          "output_type": "execute_result",
          "data": {
            "text/plain": [
              "[array([[1.8000945]], dtype=float32), array([31.976372], dtype=float32)]"
            ]
          },
          "metadata": {},
          "execution_count": 18
        }
      ],
      "source": [
        "model.get_weights()"
      ]
    },
    {
      "cell_type": "code",
      "execution_count": 19,
      "metadata": {
        "colab": {
          "base_uri": "https://localhost:8080/"
        },
        "id": "-Y3W7QXPUwH7",
        "outputId": "28ab3c98-0acb-4d57-8d3a-0bb997866840"
      },
      "outputs": [
        {
          "output_type": "stream",
          "name": "stdout",
          "text": [
            "Digite o valor para converter: 0\n",
            "1/1 [==============================] - 0s 452ms/step\n"
          ]
        },
        {
          "output_type": "execute_result",
          "data": {
            "text/plain": [
              "array([[31.976372]], dtype=float32)"
            ]
          },
          "metadata": {},
          "execution_count": 19
        }
      ],
      "source": [
        "temp_c = int(input('Digite o valor para converter: '))\n",
        "temp_f = model.predict([temp_c])\n",
        "temp_f"
      ]
    }
  ],
  "metadata": {
    "colab": {
      "provenance": [],
      "authorship_tag": "ABX9TyOUY3oV3+6aJyWlU2JI5lJP",
      "include_colab_link": true
    },
    "kernelspec": {
      "display_name": "Python 3",
      "name": "python3"
    },
    "language_info": {
      "name": "python"
    }
  },
  "nbformat": 4,
  "nbformat_minor": 0
}
